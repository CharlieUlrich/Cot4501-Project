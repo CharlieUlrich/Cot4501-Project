{
 "cells": [
  {
   "cell_type": "markdown",
   "metadata": {},
   "source": [
    "We begin by loading our dependencies and the data which we chose to examine. The following displays the data for aapl as a sample:"
   ]
  },
  {
   "cell_type": "code",
   "execution_count": 1,
   "metadata": {},
   "outputs": [],
   "source": [
    "using CSV\n",
    "using DataFrames\n",
    "using Statistics\n",
    "using Plots\n",
    "amzn = DataFrame(CSV.File(\"data/Amazon.csv\"))\n",
    "gold = DataFrame(CSV.File(\"data/Gold.csv\"))\n",
    "oil = DataFrame(CSV.File(\"data/Oil.csv\"))\n",
    "net = DataFrame(CSV.File(\"data/NFLX.csv\"))\n",
    "aapl = DataFrame(CSV.File(\"data/aapl.csv\"))"
   ]
  },
  {
   "cell_type": "code",
   "execution_count": null,
   "metadata": {},
   "outputs": [],
   "source": [
    "using Plots\n",
    "plot([1:1259],aapl[:,6])"
   ]
  },
  {
   "cell_type": "markdown",
   "metadata": {},
   "source": [
    "From here we begin our examination of the ARMA model as a predictor of the next day's stock data."
   ]
  },
  {
   "attachments": {},
   "cell_type": "markdown",
   "metadata": {},
   "source": [
    "# ARMA Model\n",
    "\n",
    "From here we begin our examination of the ARMA model as a predictor for the next day's data point.\n",
    "\n",
    "The ARMA model functioned by looking back at previous days' predicted values as well as the errors of those predictions, following the function below:\n",
    "yt = c + ϕ1 yt-1 + θ1 ϵt-1 ….+ϕt y0+θt ϵ0\n",
    "-yt is the predicted value\n",
    "-c is a chosen constant\n",
    "-ϕ is the weight of the previous prediction\n",
    "-θ is the weight of the error\n",
    "-ϵ is the error of the prediction\n",
    "The equation picks a function for the weights, such as 1/t, where t is the amount of iterations back that had been predicted\n",
    "\n",
    "When generating a prediction for the current day which considers the predictions and errors of the n days preceding it, the time complexity is O(n) and the flop count is equal to 4n + 1. The space complexity of the algorithm is O(n) as well.\n",
    "\n",
    "The code to apply this function was built recursively and functioned the following way:\n",
    "1. The solver function which acts as ARMA is called and the array of values, and starting index, 0, are passed in\n",
    "2. Next the function initializes the variable, prev, which will hold the previous prediction\n",
    "3. Next it checks the if statement which acts as the base case, and if the array has a size which is greater than 1, it calls itself again passing in an array with the first value cut off, and back being incremented by one\n",
    "4. This is repeated until the break case is hit, which means that y0 has been reached and it returns the remaining value in info, this is stored in prev\n",
    "5. Then it breaks out of the if statement and returns the ARMA function solved at the current index, i.e. if it has been recurred 5 times and there were 6 data points, it would be at the 5th index, and since the time data was stored backwards it was at the second point chronologically, and the weight function is applied correctly with the weight being (1/t) or (1/5). It also adds the previous value so the values add up\n",
    "6. Finally the value at the next time is returned, and the data is modeled. Afterwards, if a constant is needed it can be applied "
   ]
  },
  {
   "cell_type": "code",
   "execution_count": null,
   "metadata": {
    "scrolled": true
   },
   "outputs": [],
   "source": [
    "#First attempt\n",
    "function solver1(info,back)\n",
    "    prev = 0.0\n",
    "    if(size(info)[1]!=1)\n",
    "        prev = solver1(info[2:size(info)[1]],back+=1)\n",
    "    else\n",
    "        return info[1]\n",
    "    end\n",
    "    return (exp(-back)*info[1,1])+(exp(-back)*info[1,1])+prev\n",
    "end\n"
   ]
  },
  {
   "cell_type": "code",
   "execution_count": null,
   "metadata": {},
   "outputs": [],
   "source": [
    "###SOLVE RECURSIVELY\n",
    "#Call oslver which loops back through x days\n",
    "#Second Attempt / Function used to find errors\n",
    "errs = []\n",
    "function solver2(info,back)\n",
    "    #println(back)\n",
    "    prev = 0.0\n",
    "    if(size(info)[1]!=1)\n",
    "        prev = solver2(info[1:size(info)[1]-1],back+=1)\n",
    "    else\n",
    "        return info[1]\n",
    "    end\n",
    "    return (exp(-back)*info[size(info)[1],1])+(exp(-back)*(abs(prev-info[size(info)[1]-1,1])))+prev\n",
    "end"
   ]
  },
  {
   "cell_type": "code",
   "execution_count": null,
   "metadata": {},
   "outputs": [],
   "source": [
    "#inal version\n",
    "function fixedsolver(info,back)\n",
    "    #println(back)\n",
    "    prev = 0.0\n",
    "    if(size(info)[1]!=1)\n",
    "        prev = solver2(info[1:size(info)[1]-1],back+=1)\n",
    "    else\n",
    "        return info[1]\n",
    "    end\n",
    "    return (exp(-back)*info[size(info)[1],1])+((1/back)*(errs[back]))+prev\n",
    "end"
   ]
  },
  {
   "cell_type": "markdown",
   "metadata": {},
   "source": [
    "# ARIMA Model\n",
    "\n",
    "From here we begin our examination of the ARIMA model as a predictor for the next day's data point.\n",
    "\n",
    "Whereas our usage of ARMA predicts the price of a given stock or commodity directly based on previous days' prices, ARIMA makes use of a different mechanism. ARIMA is an integrated model, meaning that its focus is on calculating the differences between consecutive days' prices rather than the prices themselves. From there, the resulting data set can be graphed in an integrated fashion when provided an initial condition, thereby yielding a predictive data set.\n",
    "\n",
    "When generating a prediction for the current day which considers the predictions and errors of the n days preceding it, the time complexity is O(n) and the flop count is equal to 5n + 1. The space complexity of the algorithm is O(n) as well.\n",
    "\n",
    "The following funtion implements the ARIMA model. The arguments are as follows:\n",
    "- data, the dataset to be examined\n",
    "- daysToCover, the number of days which should be examined by the model. If n days are covered, price change predictions will be generated for days 2 - n+1\n",
    "- daysToLookBack, the number of preceding days which should be considered when predicting the change in price for a given day. This can be considered the \"memory\" of the model.\n",
    "- weightFunction, the weighting function for the influence of preceding days' price changes and errors on the given day's prediction. In general, a strictly decreasing exponential function of x is most appropriate for this, as any increasing function will place unwarranted interest on old data. However, possible use cases could exist in which a linear or constant function may be more appropriate.\n",
    "- c, a manual constant modifier for every predicted price change. While the utility of this will not be explored in our examination, it is present due to its presence in the model itself."
   ]
  },
  {
   "cell_type": "code",
   "execution_count": null,
   "metadata": {},
   "outputs": [],
   "source": [
    "### Solves with ARIMA model\n",
    "\n",
    "function ARIMASolve(data, daysToCover, daysToLookBack, weightFunction, c)\n",
    "    dP = zeros(daysToCover)\n",
    "    predictions = zeros(daysToCover + 1)\n",
    "    residual = zeros(daysToCover)\n",
    "    dP[1:daysToLookBack] = data[2:(daysToLookBack + 1)] - data[1:daysToLookBack]\n",
    "    for i in (daysToLookBack + 1):daysToCover\n",
    "        predictions[i] = c\n",
    "        for j in daysToLookBack:-1:1\n",
    "            predictions[i] = predictions[i] + weightFunction(j) * (dP[i - j] + residual[i - j])\n",
    "        end\n",
    "        residual[i] = (data[i + 1] - data[i]) - predictions[i]\n",
    "        dP[i] = predictions[i] + residual[i]\n",
    "    end\n",
    "    predictions[daysToCover + 1] = c\n",
    "    for j in daysToLookBack:-1:1\n",
    "        predictions[daysToCover + 1] = predictions[daysToCover + 1] + weightFunction(j) * (dP[daysToCover + 1 - j] + residual[daysToCover + 1 - j])\n",
    "    end\n",
    "    return predictions\n",
    "end"
   ]
  },
  {
   "cell_type": "markdown",
   "metadata": {},
   "source": [
    "We begin by examining the utility of this model at a large scale. The following plot illustrates the true value of the aapl stock for the first 1000 days of data available alongside the value predicted by the ARIMA model. In this case, the ten preceding days' prices are considered when predicting the change for that day. A weighting function of 2/(e^x) is used to give weighting priority to the two days immediately preceding the day being examined. This results in a model which is highly reactive to sudden price changes and closely fits the true data. However, as is shown below, this also leads to a general overreaction in the case of sudden changes in price. The ramifications of this will be explored in more detail below."
   ]
  },
  {
   "cell_type": "code",
   "execution_count": null,
   "metadata": {},
   "outputs": [],
   "source": [
    "predicted = zeros(1000)\n",
    "predicted[1] = aapl[1, 6]\n",
    "dPs = ARIMASolve(aapl[1:1000, 6], 998, 10, x -> 2/(exp(x)), 0)\n",
    "for i in 1:length(dPs)\n",
    "    predicted[i + 1] = predicted[i] + dPs[i]\n",
    "end\n",
    "display(plot(1:1000, [aapl[1:1000, 6] predicted], title = \"ARIMA Prediction vs. True Data\", label = [\"Actual\" \"Predicted\"]))"
   ]
  },
  {
   "cell_type": "markdown",
   "metadata": {},
   "source": [
    "The following graph makes use of the same data calculated above to demonstrate the residual between the true and predicted data. As stated previously, the model produced has a general tendancy to overreact to sudden changes in price. Due to the price of aapl generally trending positive, this results in generally positive residuals. The average of the residuals is also shown below to further emphasize this trend."
   ]
  },
  {
   "cell_type": "code",
   "execution_count": null,
   "metadata": {},
   "outputs": [],
   "source": [
    "residual = predicted - aapl[1:1000, 6]\n",
    "display(plot(1:1000, residual, title = \"Residual of ARIMA prediction over time\", legend = false))\n",
    "display(Statistics.mean(residual))"
   ]
  },
  {
   "cell_type": "markdown",
   "metadata": {},
   "source": [
    "The following graph represents these residuals once more in the form of a scatter plot. The residuals of the predicted changes in price are plotted relative to the true changes in price. This demonstrates a strong clustering around (0,0) accompanied by generally decreased predictability as the true change in price increases in magnitude. This indicates a higher degree of accuracy for less volatile price data."
   ]
  },
  {
   "cell_type": "code",
   "execution_count": null,
   "metadata": {},
   "outputs": [],
   "source": [
    "plot(aapl[2:1000, 6] - aapl[1:999, 6], predicted[2:1000] - aapl[2:1000, 6], seriestype = :scatter, xlabel = \"Change in price\", ylabel = \"Residual of the prediction\", legend = false, title = \"Comparison of Residuals and True Values\")"
   ]
  },
  {
   "cell_type": "markdown",
   "metadata": {},
   "source": [
    "While the above plot does show the generalized \"accuracy\" of the model, it does not consider what results in major flaws in the prediction. In order to do so, consider the following. The graph below considers the magnitude of the actual price change one day prior to the day being predicted. This is due to the fact that when calculating the prediction for the next day, the model gives primary consideration to the change in price which preceded it. This results in a generally linear trend between the two, although outliers are still present."
   ]
  },
  {
   "cell_type": "code",
   "execution_count": null,
   "metadata": {},
   "outputs": [],
   "source": [
    "plot(aapl[2:999, 6] - aapl[1:998, 6], predicted[3:1000] - aapl[3:1000, 6], seriestype = :scatter, legend = false, xlabel = \"Change in price for the preceding day\", ylabel = \"Residual of the prediction\", title = \"Effect of Volatility of the Preceding Day on Accuracy\")"
   ]
  },
  {
   "cell_type": "markdown",
   "metadata": {},
   "source": [
    "A final consideration of note is the general trend-wise correlation of the prediction and the true values.The following is simply a scatter plot representation of the predicted prices relative to the actual prices. Generally, this makes clear that while a certain degree of instability does exist in the prediction, it does still demonstrate merit at a large scale."
   ]
  },
  {
   "cell_type": "code",
   "execution_count": null,
   "metadata": {},
   "outputs": [],
   "source": [
    "plot(aapl[1:1000, 6], predicted[1:1000], seriestype = :scatter, legend = false, xlabel = \"True price\", ylabel = \"Predicted price\", title = \"Comparison of True and Predicted Prices\")"
   ]
  },
  {
   "cell_type": "markdown",
   "metadata": {},
   "source": [
    "The following graphs will examine the same trends as above with the alternative data sets."
   ]
  },
  {
   "cell_type": "code",
   "execution_count": null,
   "metadata": {},
   "outputs": [],
   "source": [
    "r = r\",\"\n",
    "c = r\"-\"\n",
    "amz=[]\n",
    "for i in amzn[:,6]\n",
    "    i = replace(i,r => \"\")\n",
    "    i = replace(i,c => \"0\")\n",
    "    push!(amz,parse(Float64,i))\n",
    "end\n",
    "amz = reverse(amz)\n",
    "predicted = zeros(1259)\n",
    "predicted[1] = amz[1]\n",
    "dPs = ARIMASolve(amz, 1256, 10, x -> 2/(exp(x)), 0)\n",
    "for i in 1:length(dPs)\n",
    "    predicted[i + 1] = predicted[i] + dPs[i]\n",
    "end\n",
    "errs = []\n",
    "#farthest back is largest number, i.e. 0th index is end of range-1\n",
    "for i in 1:1259\n",
    "   pred = solver2(amz[1:i],0)\n",
    "   pushfirst!(errs,pred-1000)\n",
    "end\n",
    "plotArma = []\n",
    "for i in 1:1259\n",
    "   pred = fixedsolver(amz[1:i],0)\n",
    "   pushfirst!(plotArma,pred)\n",
    "end\n",
    "plotArma = reverse(plotArma)\n",
    "plot(1:1259,amz[1:1259],label=\"price\")\n",
    "plot!(1:1259,plotArma,label=\"ARMA\")\n",
    "plot!(1:1259,predicted,label=\"ARIMA\",legend=:bottomleft)"
   ]
  },
  {
   "cell_type": "code",
   "execution_count": null,
   "metadata": {},
   "outputs": [],
   "source": [
    "r = r\",\"\n",
    "c = r\"-\"\n",
    "amz=[]\n",
    "for i in gold[:,6]\n",
    "    i = replace(i,r => \"\")\n",
    "    i = replace(i,c => \"0\")\n",
    "    push!(amz,parse(Float64,i))\n",
    "end\n",
    "amz = reverse(amz)\n",
    "predicted = zeros(1259)\n",
    "predicted[1] = amz[1]\n",
    "dPs = ARIMASolve(amz, 1256, 10, x -> 2/(exp(x)), 0)\n",
    "for i in 1:length(dPs)\n",
    "    predicted[i + 1] = predicted[i] + dPs[i]\n",
    "end\n",
    "errs = []\n",
    "#farthest back is largest number, i.e. 0th index is end of range-1\n",
    "for i in 1:1259\n",
    "   pred = solver2(amz[1:i],0)\n",
    "   pushfirst!(errs,pred-3900)\n",
    "end\n",
    "plotArma = []\n",
    "for i in 1:1259\n",
    "   pred = fixedsolver(amz[1:i],0)\n",
    "   pushfirst!(plotArma,pred)\n",
    "end\n",
    "plotArma = reverse(plotArma)\n",
    "plot(1:1259,amz[1:1259],label=\"price\")\n",
    "plot!(1:1259,plotArma,label=\"ARMA\")\n",
    "plot!(1:1259,predicted,label=\"ARIMA\",legend=:bottomleft)"
   ]
  },
  {
   "cell_type": "code",
   "execution_count": null,
   "metadata": {},
   "outputs": [],
   "source": [
    "Oil = DataFrame(CSV.File(\"data/Oil.csv\"))\n",
    "r = r\",\"\n",
    "c = r\"-\"\n",
    "amz=[]\n",
    "for i in oil[:,6]\n",
    "    i = replace(i,r => \"\")\n",
    "    i = replace(i,c => \"0\")\n",
    "    push!(amz,parse(Float64,i))\n",
    "end\n",
    "amz = reverse(amz)\n",
    "predicted = zeros(1259)\n",
    "predicted[1] = amz[1]\n",
    "dPs = ARIMASolve(amz, 1256, 10, x -> 2/(exp(x)), 0)\n",
    "for i in 1:length(dPs)\n",
    "    predicted[i + 1] = predicted[i] + dPs[i]\n",
    "end\n",
    "errs = []\n",
    "#farthest back is largest number, i.e. 0th index is end of range-1\n",
    "for i in 1:1259\n",
    "   pred = solver2(amz[1:i],0)\n",
    "   pushfirst!(errs,pred)\n",
    "end\n",
    "plotArma = []\n",
    "for i in 1:1259\n",
    "   pred = fixedsolver(amz[1:i],0)\n",
    "   pushfirst!(plotArma,pred-250)\n",
    "end\n",
    "plotArma = reverse(plotArma)\n",
    "plot(1:1259,amz[1:1259],label=\"price\")\n",
    "plot!(1:1259,plotArma,label=\"ARMA\")\n",
    "plot!(1:1259,predicted,label=\"ARIMA\",legend=:bottomleft)"
   ]
  },
  {
   "cell_type": "code",
   "execution_count": null,
   "metadata": {},
   "outputs": [],
   "source": [
    "for i in net[:,6]\n",
    "    push!(amz,i)\n",
    "end\n",
    "amz = reverse(amz)\n",
    "predicted = zeros(1259)\n",
    "predicted[1] = amz[1]\n",
    "dPs = ARIMASolve(amz, 1256, 10, x -> 2/(exp(x)), 0)\n",
    "for i in 1:length(dPs)\n",
    "    predicted[i + 1] = predicted[i] + dPs[i]\n",
    "end\n",
    "errs = []\n",
    "#farthest back is largest number, i.e. 0th index is end of range-1\n",
    "for i in 1:1259\n",
    "   pred = solver2(amz[1:i],0)\n",
    "   pushfirst!(errs,pred)\n",
    "end\n",
    "plotArma = []\n",
    "for i in 1:1259\n",
    "   pred = fixedsolver(amz[1:i],0)\n",
    "   pushfirst!(plotArma,pred-800)\n",
    "end\n",
    "plotArma = reverse(plotArma)\n",
    "plot(1:1259,amz[1:1259],label=\"price\")\n",
    "plot!(1:1259,plotArma,label=\"ARMA\")\n",
    "plot!(1:1259,predicted,label=\"ARIMA\",legend=:bottomleft)"
   ]
  },
  {
   "cell_type": "code",
   "execution_count": null,
   "metadata": {},
   "outputs": [],
   "source": []
  }
 ],
 "metadata": {
  "kernelspec": {
   "display_name": "Julia 1.7.1",
   "language": "julia",
   "name": "julia-1.7"
  },
  "language_info": {
   "file_extension": ".jl",
   "mimetype": "application/julia",
   "name": "julia",
   "version": "1.7.1"
  }
 },
 "nbformat": 4,
 "nbformat_minor": 4
}
